{
  "nbformat": 4,
  "nbformat_minor": 0,
  "metadata": {
    "colab": {
      "provenance": [],
      "authorship_tag": "ABX9TyM4uLO4Ry0lOGlOkoUdMcxG",
      "include_colab_link": true
    },
    "kernelspec": {
      "name": "python3",
      "display_name": "Python 3"
    },
    "language_info": {
      "name": "python"
    }
  },
  "cells": [
    {
      "cell_type": "markdown",
      "metadata": {
        "id": "view-in-github",
        "colab_type": "text"
      },
      "source": [
        "<a href=\"https://colab.research.google.com/github/suin0985/oss2025-02-1/blob/main/Untitled0.ipynb\" target=\"_parent\"><img src=\"https://colab.research.google.com/assets/colab-badge.svg\" alt=\"Open In Colab\"/></a>"
      ]
    },
    {
      "cell_type": "code",
      "execution_count": 1,
      "metadata": {
        "colab": {
          "base_uri": "https://localhost:8080/"
        },
        "id": "MpBx5Aj-hvO1",
        "outputId": "99d69a3c-7fbc-4778-f681-518838e5bc0c"
      },
      "outputs": [
        {
          "output_type": "stream",
          "name": "stdout",
          "text": [
            "Writing test_sample.py\n"
          ]
        }
      ],
      "source": [
        "%%writefile test_sample.py\n",
        "import pytest\n",
        "\n",
        "def test_file1_method1():\n",
        "  x=5\n",
        "  y=6\n",
        "  assert x + 1 == y, \"test failed\"\n",
        "  assert x == y, \"test failed\"\n",
        "\n",
        "def test_faile1_method2():\n",
        "  x=5\n",
        "  y=6\n",
        "  assert x+1 == y, \"test failed\""
      ]
    },
    {
      "cell_type": "code",
      "source": [
        "import pytest\n",
        "@pytest.fixture\n",
        "def supply_AA_BB_CC():\n",
        "  aa = 25\n",
        "  bb = 35\n",
        "  cc = 45\n",
        "  return [aa,bb,cc]\n",
        "\n",
        "  def test_AA(supply_AA_BB_CC):\n",
        "    zz = 35\n",
        "    assert supply_AA_BB_CC[0] == zz, \"aa and zz comparison failed\"\n"
      ],
      "metadata": {
        "id": "IpLORtbzkGgm"
      },
      "execution_count": 2,
      "outputs": []
    },
    {
      "cell_type": "code",
      "source": [
        "%%time\n",
        "def print_user(name):\n",
        "  print(name)\n",
        "\n",
        "print_user(\"suin\")\n",
        "\n",
        "def time_measure(func):\n",
        "  starttime\n",
        "  func()\n",
        "  endtime"
      ],
      "metadata": {
        "colab": {
          "base_uri": "https://localhost:8080/"
        },
        "id": "mHN473I0nH5q",
        "outputId": "24875a98-063f-403c-ed7a-eaf2fc6a28eb"
      },
      "execution_count": 4,
      "outputs": [
        {
          "output_type": "stream",
          "name": "stdout",
          "text": [
            "suin\n",
            "CPU times: user 998 µs, sys: 0 ns, total: 998 µs\n",
            "Wall time: 917 µs\n"
          ]
        }
      ]
    },
    {
      "cell_type": "code",
      "source": [
        "%%writefile test_parameterize.py\n",
        "import pytest\n",
        "\n",
        "@pytest.mark.parametrize(\"input1, input2, output\", [(5,5,10), (3,5,12)])\n",
        "def test_add(input1, input2, output):\n",
        "  assert input1 + input2 == output, \"failed\""
      ],
      "metadata": {
        "colab": {
          "base_uri": "https://localhost:8080/"
        },
        "id": "E7eUaOEJn8D-",
        "outputId": "76f92b6f-28db-48a6-d7f5-2f04809312db"
      },
      "execution_count": 7,
      "outputs": [
        {
          "output_type": "stream",
          "name": "stdout",
          "text": [
            "Writing test_parameterize.py\n"
          ]
        }
      ]
    },
    {
      "cell_type": "code",
      "source": [
        "@login\n",
        "@put_item\n",
        "def buy_item(x):\n",
        "  pass\n",
        "\n",
        "def my_func(x):\n",
        "  return x**x\n",
        "\n",
        "def print_user(name):\n",
        "  print(name)\n",
        "\n",
        "def composite_func(func, x, name):\n",
        "    print_user(name)\n",
        "    func(x)\n",
        "\n",
        "# @composite_func  # This decorator usage is incorrect. Assuming you want to call the function instead.\n",
        "# my_func()_  # This line seems incomplete or has syntax issues. Assuming you want to call composite_func.\n",
        "\n",
        "# composite_func(my_func, x, name) # This line is already present and correct based on the function definition\n",
        "\n",
        "# def composite_func(x, name):\n",
        "#     print_user(name)\n",
        "#     my_func(x)\n",
        "  return x**x\n",
        "\n",
        "def print_user(name):\n",
        "  print(name)\n",
        "\n",
        "  def composite_func(func, x, name):\n",
        "    print_user(name)\n",
        "    func(x)\n",
        "\n",
        "@composite_func\n",
        "my_func()_\n",
        "\n",
        "composite_func(my_func, x, name)\n",
        "\n",
        "# def composite_func(x, name):\n",
        "#     print_user(name)\n",
        "#     my_func(x)"
      ],
      "metadata": {
        "colab": {
          "base_uri": "https://localhost:8080/",
          "height": 106
        },
        "id": "nFjAcH7slGae",
        "outputId": "e312bbfd-0f57-4f43-bdaa-13f420d39517"
      },
      "execution_count": 11,
      "outputs": [
        {
          "output_type": "error",
          "ename": "IndentationError",
          "evalue": "unindent does not match any outer indentation level (<tokenize>, line 24)",
          "traceback": [
            "\u001b[0;36m  File \u001b[0;32m\"<tokenize>\"\u001b[0;36m, line \u001b[0;32m24\u001b[0m\n\u001b[0;31m    return x**x\u001b[0m\n\u001b[0m    ^\u001b[0m\n\u001b[0;31mIndentationError\u001b[0m\u001b[0;31m:\u001b[0m unindent does not match any outer indentation level\n"
          ]
        }
      ]
    }
  ]
}